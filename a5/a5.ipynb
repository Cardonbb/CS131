{
  "nbformat": 4,
  "nbformat_minor": 0,
  "metadata": {
    "colab": {
      "provenance": []
    },
    "kernelspec": {
      "name": "python3",
      "display_name": "Python 3"
    },
    "language_info": {
      "name": "python"
    }
  },
  "cells": [
    {
      "cell_type": "markdown",
      "source": [
        "found so i can do in google colab\n"
      ],
      "metadata": {
        "id": "Uf4zpR0vbzGH"
      }
    },
    {
      "cell_type": "code",
      "execution_count": null,
      "metadata": {
        "colab": {
          "base_uri": "https://localhost:8080/"
        },
        "id": "sEgmuS7UETg1",
        "outputId": "68bd3049-3666-4ae1-ee09-adab866ae19e"
      },
      "outputs": [
        {
          "output_type": "stream",
          "name": "stdout",
          "text": [
            "\r0% [Working]\r            \rHit:1 https://developer.download.nvidia.com/compute/cuda/repos/ubuntu2204/x86_64  InRelease\n",
            "\r0% [Waiting for headers] [Waiting for headers] [Connected to cloud.r-project.or\r                                                                               \rHit:2 https://cloud.r-project.org/bin/linux/ubuntu jammy-cran40/ InRelease\n",
            "\r0% [Waiting for headers] [Waiting for headers] [Connected to r2u.stat.illinois.\r                                                                               \rHit:3 http://security.ubuntu.com/ubuntu jammy-security InRelease\n",
            "\r0% [Waiting for headers] [Connected to r2u.stat.illinois.edu (192.17.190.167)] \r                                                                               \rHit:4 http://archive.ubuntu.com/ubuntu jammy InRelease\n",
            "\r0% [Connected to r2u.stat.illinois.edu (192.17.190.167)] [Connecting to ppa.lau\r                                                                               \rHit:5 http://archive.ubuntu.com/ubuntu jammy-updates InRelease\n",
            "Hit:6 http://archive.ubuntu.com/ubuntu jammy-backports InRelease\n",
            "Hit:7 https://r2u.stat.illinois.edu/ubuntu jammy InRelease\n",
            "Hit:8 https://ppa.launchpadcontent.net/deadsnakes/ppa/ubuntu jammy InRelease\n",
            "Hit:9 https://ppa.launchpadcontent.net/graphics-drivers/ppa/ubuntu jammy InRelease\n",
            "Hit:10 https://ppa.launchpadcontent.net/ubuntugis/ppa/ubuntu jammy InRelease\n",
            "Reading package lists... Done\n",
            "W: Skipping acquire of configured file 'main/source/Sources' as repository 'https://r2u.stat.illinois.edu/ubuntu jammy InRelease' does not seem to provide it (sources.list entry misspelt?)\n"
          ]
        }
      ],
      "source": [
        "# Install Java, Spark 3.4.1 (working stable), and findspark\n",
        "!apt-get update\n",
        "!apt-get install openjdk-11-jdk-headless -qq > /dev/null\n",
        "!wget -q https://archive.apache.org/dist/spark/spark-3.4.1/spark-3.4.1-bin-hadoop3.tgz\n",
        "!tar xf spark-3.4.1-bin-hadoop3.tgz\n",
        "!pip install -q findspark\n",
        "\n",
        "# Set environment variables\n",
        "import os\n",
        "os.environ[\"JAVA_HOME\"] = \"/usr/lib/jvm/java-11-openjdk-amd64\"\n",
        "os.environ[\"SPARK_HOME\"] = \"/content/spark-3.4.1-bin-hadoop3\"\n",
        "\n",
        "# Initialize findspark\n",
        "import findspark\n",
        "findspark.init()\n"
      ]
    },
    {
      "cell_type": "markdown",
      "source": [
        "import"
      ],
      "metadata": {
        "id": "XqY8Pqxlb7fh"
      }
    },
    {
      "cell_type": "code",
      "source": [
        "from pyspark.sql import SparkSession\n",
        "from time import time\n",
        "import matplotlib.pyplot as plt\n",
        "from pyspark.sql.functions import regexp_replace, col\n",
        "from pyspark.ml.feature import VectorAssembler\n",
        "from pyspark.ml.regression import RandomForestRegressor\n",
        "from pyspark.ml.regression import LinearRegression\n",
        "import pandas as pd\n",
        "import numpy as np\n",
        "\n",
        "\n",
        "spark = SparkSession.builder.appName(\"a5\").getOrCreate()\n"
      ],
      "metadata": {
        "id": "9pZ-SCf5Fm01"
      },
      "execution_count": 27,
      "outputs": []
    },
    {
      "cell_type": "markdown",
      "source": [
        "dataset"
      ],
      "metadata": {
        "id": "agNUQ81Hb5MM"
      }
    },
    {
      "cell_type": "code",
      "source": [
        "import kagglehub\n",
        "\n",
        "# Download latest version\n",
        "file = kagglehub.dataset_download(\"danielcalvoglez/us-tariffs-2025\")\n",
        "\n",
        "print(\"Path to dataset files:\", file)"
      ],
      "metadata": {
        "colab": {
          "base_uri": "https://localhost:8080/"
        },
        "id": "3OpPzhlOGgr7",
        "outputId": "67f5cf13-7e2a-461f-ba71-6307a63a4379"
      },
      "execution_count": 3,
      "outputs": [
        {
          "output_type": "stream",
          "name": "stdout",
          "text": [
            "Downloading from https://www.kaggle.com/api/v1/datasets/download/danielcalvoglez/us-tariffs-2025?dataset_version_number=2...\n"
          ]
        },
        {
          "output_type": "stream",
          "name": "stderr",
          "text": [
            "100%|██████████| 8.89k/8.89k [00:00<00:00, 10.7MB/s]"
          ]
        },
        {
          "output_type": "stream",
          "name": "stdout",
          "text": [
            "Extracting files...\n",
            "Path to dataset files: /root/.cache/kagglehub/datasets/danielcalvoglez/us-tariffs-2025/versions/2\n"
          ]
        },
        {
          "output_type": "stream",
          "name": "stderr",
          "text": [
            "\n"
          ]
        }
      ]
    },
    {
      "cell_type": "code",
      "source": [
        "df = spark.read.csv(file, header=True, inferSchema=True, sep=\";\")\n",
        "df.show()\n",
        "\n"
      ],
      "metadata": {
        "colab": {
          "base_uri": "https://localhost:8080/"
        },
        "id": "aGdvnafgGmeV",
        "outputId": "dd070f13-b709-4a63-d8bf-d0ecd10a72cd"
      },
      "execution_count": 13,
      "outputs": [
        {
          "output_type": "stream",
          "name": "stdout",
          "text": [
            "+-------------------+---------------+---------------+-------------------------------+---------------------+--------------+----------+\n",
            "|            Country|US 2024 Deficit|US 2024 Exports|US 2024 Imports (Customs Basis)|Trump Tariffs Alleged|Trump Response|Population|\n",
            "+-------------------+---------------+---------------+-------------------------------+---------------------+--------------+----------+\n",
            "|        Afghanistan|          -11.1|           11.4|                           22.6|                  49%|           25%|  41454761|\n",
            "|            Albania|           13.4|          141.7|                          128.3|                  10%|           10%|   2745972|\n",
            "|            Algeria|      -1,447.10|       1,014.50|                       2,461.60|                  59%|           29%|  46164219|\n",
            "|            Andorra|            1.5|            4.9|                            3.4|                  10%|           10%|     80856|\n",
            "|             Angola|      -1,186.90|          682.4|                       1,869.20|                  63%|           32%|  36749906|\n",
            "|           Anguilla|           71.3|           72.5|                            1.2|                  10%|           10%|      NULL|\n",
            "|Antigua and Barbuda|            550|          573.8|                           23.8|                  10%|           10%|     93316|\n",
            "|          Argentina|       2,078.80|       9,171.00|                       7,092.20|                  10%|           10%|  45538401|\n",
            "|            Armenia|           39.2|          160.8|                          121.6|                  10%|           10%|   2990900|\n",
            "|              Aruba|          714.8|          725.5|                           10.7|                  10%|           10%|    107359|\n",
            "|         Australia*|      17,907.80|      34,593.30|                      16,685.50|                  10%|           10%|  26658948|\n",
            "|         Azerbaijan|           97.3|          255.1|                          157.8|                  10%|           10%|  10153958|\n",
            "|            Bahamas|       3,847.40|       5,639.70|                       1,792.40|                  10%|           10%|    399440|\n",
            "|           Bahrain*|          441.9|       1,646.20|                       1,204.30|                  10%|           10%|   1577059|\n",
            "|         Bangladesh|      -6,151.80|       2,214.00|                       8,365.80|                  74%|           37%| 171466990|\n",
            "|           Barbados|            724|          772.6|                           48.6|                  10%|           10%|    282336|\n",
            "|            Belarus|           -9.4|           10.6|                             20|                  47%|           24%|   9178298|\n",
            "|             Belize|          509.3|          590.4|                           81.1|                  10%|           10%|    411106|\n",
            "|              Benin|          167.8|          216.4|                           48.6|                  10%|           10%|  14111034|\n",
            "|            Bermuda|          517.1|          540.4|                           23.3|                  10%|           10%|     64698|\n",
            "+-------------------+---------------+---------------+-------------------------------+---------------------+--------------+----------+\n",
            "only showing top 20 rows\n",
            "\n"
          ]
        }
      ]
    },
    {
      "cell_type": "code",
      "source": [
        "df.columns"
      ],
      "metadata": {
        "colab": {
          "base_uri": "https://localhost:8080/"
        },
        "id": "xssproJZchlt",
        "outputId": "edc7139e-9d17-4be6-c896-59a41ff45b73"
      },
      "execution_count": 14,
      "outputs": [
        {
          "output_type": "execute_result",
          "data": {
            "text/plain": [
              "['Country',\n",
              " 'US 2024 Deficit',\n",
              " 'US 2024 Exports',\n",
              " 'US 2024 Imports (Customs Basis)',\n",
              " 'Trump Tariffs Alleged',\n",
              " 'Trump Response',\n",
              " 'Population']"
            ]
          },
          "metadata": {},
          "execution_count": 14
        }
      ]
    },
    {
      "cell_type": "code",
      "source": [
        "df = df.withColumn(\"Trump Tariffs Alleged\", regexp_replace(\"Trump Tariffs Alleged\", \"%\", \"\").cast(\"float\"))\n",
        "df = df.withColumn(\"Trump Response\", regexp_replace(\"Trump Response\", \"%\", \"\").cast(\"float\"))"
      ],
      "metadata": {
        "id": "DE-weoDgcdSQ"
      },
      "execution_count": 19,
      "outputs": []
    },
    {
      "cell_type": "code",
      "source": [
        "X = df[[\"Trump Tariffs Alleged\"]]\n",
        "y = df[[\"Trump Response\"]]"
      ],
      "metadata": {
        "id": "hLuH3URXcp4v"
      },
      "execution_count": 21,
      "outputs": []
    },
    {
      "cell_type": "code",
      "source": [
        "X"
      ],
      "metadata": {
        "colab": {
          "base_uri": "https://localhost:8080/"
        },
        "id": "i6bulx6tcqm7",
        "outputId": "3579a534-fc45-4193-fd28-c1b8c16c24ab"
      },
      "execution_count": 22,
      "outputs": [
        {
          "output_type": "execute_result",
          "data": {
            "text/plain": [
              "DataFrame[Trump Tariffs Alleged: float]"
            ]
          },
          "metadata": {},
          "execution_count": 22
        }
      ]
    },
    {
      "cell_type": "code",
      "source": [
        "Y"
      ],
      "metadata": {
        "colab": {
          "base_uri": "https://localhost:8080/"
        },
        "id": "06TxFW9Ida5J",
        "outputId": "bf92035d-6bdf-4213-b345-06ff14f12422"
      },
      "execution_count": 23,
      "outputs": [
        {
          "output_type": "execute_result",
          "data": {
            "text/plain": [
              "DataFrame[Trump_Response: string]"
            ]
          },
          "metadata": {},
          "execution_count": 23
        }
      ]
    },
    {
      "cell_type": "code",
      "source": [
        "trainDF, testDF = df.randomSplit([.8,.2],seed=42)"
      ],
      "metadata": {
        "id": "1WPFJkgKdfmY"
      },
      "execution_count": 24,
      "outputs": []
    },
    {
      "cell_type": "code",
      "source": [
        "assembler = VectorAssembler(inputCols=[\"Trump Tariffs Alleged\"], outputCol=\"features\")\n",
        "trainDF = assembler.transform(trainDF)\n",
        "testDF = assembler.transform(testDF)"
      ],
      "metadata": {
        "id": "QrCdxWANd2ad"
      },
      "execution_count": 25,
      "outputs": []
    },
    {
      "cell_type": "code",
      "source": [
        "lr = LinearRegression(featuresCol=\"features\", labelCol=\"Trump Response\")\n",
        "model = lr.fit(trainDF)\n"
      ],
      "metadata": {
        "id": "4mQAJi1Md421"
      },
      "execution_count": 28,
      "outputs": []
    },
    {
      "cell_type": "code",
      "source": [
        "prediction = model.transform(testDF)\n",
        "prediction.select(\"Trump Tariffs Alleged\", \"Trump Response\", \"prediction\").show(10)\n",
        "\n",
        "print(\"RMSE:\", model.summary.rootMeanSquaredError)\n"
      ],
      "metadata": {
        "colab": {
          "base_uri": "https://localhost:8080/"
        },
        "id": "VMYk9B2ueAOf",
        "outputId": "c8a23b40-4852-4c91-ebbf-6e3bf4fb39b2"
      },
      "execution_count": 31,
      "outputs": [
        {
          "output_type": "stream",
          "name": "stdout",
          "text": [
            "+---------------------+--------------+------------------+\n",
            "|Trump Tariffs Alleged|Trump Response|        prediction|\n",
            "+---------------------+--------------+------------------+\n",
            "|                 59.0|          29.0|30.104156402306927|\n",
            "|                 10.0|          10.0| 9.537606552954635|\n",
            "|                 10.0|          10.0| 9.537606552954635|\n",
            "|                 10.0|          10.0| 9.537606552954635|\n",
            "|                 10.0|          10.0| 9.537606552954635|\n",
            "|                 74.0|          37.0|  36.4000390092515|\n",
            "|                 88.0|          44.0| 42.27619610906644|\n",
            "|                 10.0|          10.0| 9.537606552954635|\n",
            "|                 22.0|          11.0|14.574312638510298|\n",
            "|                 10.0|          10.0| 9.537606552954635|\n",
            "+---------------------+--------------+------------------+\n",
            "only showing top 10 rows\n",
            "\n",
            "RMSE: 1.1768521597896893\n"
          ]
        }
      ]
    }
  ]
}